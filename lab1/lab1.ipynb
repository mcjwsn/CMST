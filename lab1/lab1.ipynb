{
 "cells": [
  {
   "cell_type": "markdown",
   "metadata": {},
   "source": [
    "# CMST lab01"
   ]
  },
  {
   "cell_type": "markdown",
   "metadata": {},
   "source": [
    "# Task 1: Summation of Single-Precision Numbers\n",
    "\n",
    "1. Write a program that calculates the sum of N single-precision numbers stored in an array with N = 10⁷ elements. The array is filled with the same value v from the range [0.1, 0.9], e.g., v = 0.53125.\n",
    "2. Determine the absolute and relative error of the calculations. Why is the relative error so large?\n",
    "3. How does the relative error grow during summation? Present a graph (report the error value every 25,000 steps) and interpret the results.\n",
    "4. Implement a recursive summation algorithm, functioning as shown in the figure below.\n",
    "5. Determine the absolute and relative error of the calculations. Why has the relative error significantly decreased?\n",
    "6. Compare the execution time of both algorithms for the same input data.\n",
    "7. Provide example input data for which the recursive summation algorithm returns a nonzero error.\n",
    "\n"
   ]
  },
  {
   "cell_type": "code",
   "execution_count": 9,
   "metadata": {},
   "outputs": [],
   "source": [
    "from time import time\n",
    "import numpy as np\n",
    "import matplotlib.pyplot as plt"
   ]
  },
  {
   "cell_type": "markdown",
   "metadata": {},
   "source": [
    "## Ex 1"
   ]
  },
  {
   "cell_type": "code",
   "execution_count": null,
   "metadata": {},
   "outputs": [
    {
     "name": "stdout",
     "output_type": "stream",
     "text": [
      "Time 4.483747720718384 s\n",
      "Absoulte error =  281659.5\n",
      "Relative error =  5.301825882352941  %\n"
     ]
    }
   ],
   "source": [
    "N = 10 ** 7\n",
    "v = np.float32(0.53125)\n",
    "\n",
    "T = [v] * N\n",
    "changesA = []\n",
    "changesR = []\n",
    "counterValues = []\n",
    "s = np.float32(0)\n",
    "t = time()\n",
    "for i in range(N):\n",
    "    s += np.float32(T[i])\n",
    "    if i%25000 == 1:\n",
    "        counterValues.append(i)\n",
    "        changesA.append(np.float32(abs( v * i - s)))\n",
    "        changesR.append(np.float32((np.float32(changesA[-1])/(v*N)) * 100))\n",
    "print(\"Time\",time()-t,\"s\")\n",
    "Aerror = abs( v * N - s)\n",
    "Rerror = (Aerror/(v*N)) * 100\n",
    "print(\"Absoulte error = \", Aerror)\n",
    "print(\"Relative error = \", Rerror,\" %\")\n",
    "\n"
   ]
  },
  {
   "cell_type": "code",
   "execution_count": null,
   "metadata": {},
   "outputs": [],
   "source": [
    "fig, ax = plt.subplots()\n",
    "#print(counterValues)\n",
    "plt.ylim(0, 500000)\n",
    "ax.plot(counterValues,changesA)\n",
    "\n",
    "\n",
    "fig2, ax2 = plt.subplots()\n",
    "plt.ylim(0, 20)\n",
    "ax2.plot(counterValues,changesR)\n",
    "\n",
    "plt.show()"
   ]
  },
  {
   "cell_type": "code",
   "execution_count": 32,
   "metadata": {},
   "outputs": [
    {
     "name": "stdout",
     "output_type": "stream",
     "text": [
      "Time 3.036161184310913 s\n",
      "Reccursion algorithm absoulte error  0.1604328155517578\n",
      "Reccursion algorithm relative error  1.2995057962871656e-05 %\n"
     ]
    }
   ],
   "source": [
    "N = 10 ** 7\n",
    "v = np.float32(0.123456789)\n",
    "T = [v] * N\n",
    "\n",
    "t = time()\n",
    "def r(T):\n",
    "    n = len(T)\n",
    "    if n == 1: return T[0]\n",
    "    return r(T[:len(T)//2]) + r(T[len(T)//2:])\n",
    "\n",
    "ReqS = r(T)\n",
    "print(\"Time\",time()-t,\"s\")\n",
    "print(\"Reccursion algorithm absoulte error \",abs(ReqS - v*N))  \n",
    "print(\"Reccursion algorithm relative error \",(abs(ReqS - v*N)/(v*N)) * 100, \"%\")  \n"
   ]
  },
  {
   "cell_type": "markdown",
   "metadata": {},
   "source": [
    "# Task 2: Kahan Summation Algorithm\n",
    "\n",
    "Implement the Kahan summation algorithm:\n",
    "\n",
    "```c\n",
    "float sum = 0.0f;\n",
    "float err = 0.0f;\n",
    "for (int i = 0; i < tab.length; ++i) {\n",
    "    float y = tab[i] - err;\n",
    "    float temp = sum + y;\n",
    "    err = (temp - sum) - y;\n",
    "    sum = temp;\n",
    "}\n",
    "```\n",
    "\n",
    "1. Determine the absolute and relative error of the calculations for the same input data as in the tests from Task 1.\n",
    "2. Explain why the Kahan algorithm has significantly better numerical properties. What is the purpose of the variable `err`?\n",
    "3. Compare the execution times of the Kahan algorithm and the recursive summation algorithm for the same input data.\n",
    "\n"
   ]
  },
  {
   "cell_type": "markdown",
   "metadata": {},
   "source": [
    "## Ex2"
   ]
  },
  {
   "cell_type": "code",
   "execution_count": null,
   "metadata": {},
   "outputs": [
    {
     "name": "stdout",
     "output_type": "stream",
     "text": [
      "Case 1\n",
      "Kahan absoulte error =  0.03543281555175781\n",
      "Kahan relative error =  2.870058038308784e-06  %\n",
      "Time 7.826039552688599 s\n",
      "Case 2\n",
      "Kahan absoulte error =  0.0\n",
      "Kahan relative error =  0.0  %\n"
     ]
    }
   ],
   "source": [
    "# Kahan Algorithm\n",
    "\n",
    "N = 10 ** 7\n",
    "v1 = np.float32(0.123456789)\n",
    "v2 = np.float32(0.53125)\n",
    "T1 = [v1] * N\n",
    "T2 = [v2] * N\n",
    "def Kahan(T):\n",
    "    Ksum = np.float32(0)\n",
    "    Kerr = np.float32(0)\n",
    "    for i in range(N):\n",
    "        y = np.float32(T[i] - Kerr)\n",
    "        temp = np.float32(Ksum + y)\n",
    "        Kerr = (temp - Ksum) - y\n",
    "        Ksum = temp\n",
    "    return Ksum\n",
    "t = time()\n",
    "k1 = Kahan(T1)\n",
    "t = time() - t\n",
    "print(\"Case 1\")\n",
    "print(\"Kahan absoulte error = \", abs(v1*N - k1))\n",
    "print(\"Kahan relative error = \", 100 * abs(v1*N - k1) / (v1*N) ,\" %\")\n",
    "print(\"Time\", t, \"s\")\n",
    "k2 = Kahan(T2)\n",
    "print(\"Case 2\")\n",
    "print(\"Kahan absoulte error = \", abs(v2*N - k2))\n",
    "print(\"Kahan relative error = \", 100 * abs(v2*N - k2) / (v2*N) ,\" %\")\n",
    "\n",
    "# dla niekórych kahan i rekurencyjny zwracaja takie same liczby"
   ]
  },
  {
   "cell_type": "markdown",
   "metadata": {},
   "source": [
    "## Ex3"
   ]
  },
  {
   "cell_type": "markdown",
   "metadata": {
    "vscode": {
     "languageId": "latex"
    }
   },
   "source": [
    "# Task 3: Partial Sums\n",
    "\n",
    "Consider the partial sums of the series defining the Riemann zeta function:\n",
    "\n",
    "$$\n",
    "\\zeta(s) = \\sum_{k=1}^{n} \\frac{1}{k^s}\n",
    "$$\n",
    "\n",
    "and the Dirichlet eta function:\n",
    "\n",
    "$$\n",
    "\\eta(s) = \\sum_{k=1}^{n} \\frac{(-1)^{k-1}}{k^s}\n",
    "$$\n",
    "\n",
    "For \\( s = 2, 3.6667, 5, 7.2, 10 \\) and \\( n = 50, 100, 200, 500, 1000 \\), compute the values of \\( \\zeta(s) \\) and \\( \\eta(s) \\) in single precision by summing forward and then backward. C\n"
   ]
  }
 ],
 "metadata": {
  "kernelspec": {
   "display_name": "Python 3",
   "language": "python",
   "name": "python3"
  },
  "language_info": {
   "codemirror_mode": {
    "name": "ipython",
    "version": 3
   },
   "file_extension": ".py",
   "mimetype": "text/x-python",
   "name": "python",
   "nbconvert_exporter": "python",
   "pygments_lexer": "ipython3",
   "version": "3.11.9"
  }
 },
 "nbformat": 4,
 "nbformat_minor": 2
}
